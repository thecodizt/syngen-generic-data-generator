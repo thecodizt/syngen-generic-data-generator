{
 "cells": [
  {
   "cell_type": "code",
   "execution_count": 1,
   "metadata": {},
   "outputs": [
    {
     "name": "stdout",
     "output_type": "stream",
     "text": [
      "[None, 1, None, 1]\n",
      "[1, None, 1, None]\n",
      "[None, 1, None, None]\n",
      "[1, None, None, None]\n"
     ]
    }
   ],
   "source": [
    "import random\n",
    "\n",
    "def modify_edges(graph_state, add_prob, del_prob):\n",
    "    n = len(graph_state)\n",
    "    new_state = [row[:] for row in graph_state]  # Create a deep copy of the graph state\n",
    "\n",
    "    # Iterate through each possible edge in the adjacency matrix\n",
    "    for i in range(n):\n",
    "        for j in range(i + 1, n):  # Ensure we do not duplicate edges (i, j) and (j, i) and skip self-loops\n",
    "            if graph_state[i][j] is None:  # No edge currently\n",
    "                if random.random() < add_prob:\n",
    "                    new_state[i][j] = 1\n",
    "                    new_state[j][i] = 1\n",
    "            else:  # Edge exists\n",
    "                if random.random() < del_prob:\n",
    "                    new_state[i][j] = None\n",
    "                    new_state[j][i] = None\n",
    "\n",
    "    return new_state\n",
    "\n",
    "def apply_variation(graph_state, variation_degree, new_edge_likelihood, delete_edge_likelihood):\n",
    "    new_state = modify_edges(graph_state, new_edge_likelihood, delete_edge_likelihood)\n",
    "    return new_state\n",
    "\n",
    "# Example usage:\n",
    "# Initialize a graph with an adjacency matrix (None means no edge, 1 means an edge exists)\n",
    "graph_state = [\n",
    "    [None, 1, None, 1],\n",
    "    [1, None, 1, None],\n",
    "    [None, 1, None, None],\n",
    "    [1, None, None, None]\n",
    "]\n",
    "\n",
    "variation_degree = 1  # Placeholder, not used in the current implementation\n",
    "new_edge_likelihood = 0.3\n",
    "delete_edge_likelihood = 0.2\n",
    "\n",
    "new_graph_state = apply_variation(graph_state, variation_degree, new_edge_likelihood, delete_edge_likelihood)\n",
    "\n",
    "for row in new_graph_state:\n",
    "    print(row)\n"
   ]
  },
  {
   "cell_type": "code",
   "execution_count": null,
   "metadata": {},
   "outputs": [],
   "source": []
  }
 ],
 "metadata": {
  "kernelspec": {
   "display_name": "venv",
   "language": "python",
   "name": "python3"
  },
  "language_info": {
   "codemirror_mode": {
    "name": "ipython",
    "version": 3
   },
   "file_extension": ".py",
   "mimetype": "text/x-python",
   "name": "python",
   "nbconvert_exporter": "python",
   "pygments_lexer": "ipython3",
   "version": "3.12.0"
  }
 },
 "nbformat": 4,
 "nbformat_minor": 2
}
